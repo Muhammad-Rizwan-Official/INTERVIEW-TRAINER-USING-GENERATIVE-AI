{
 "cells": [
  {
   "cell_type": "code",
   "execution_count": 1,
   "id": "f0b7bc35",
   "metadata": {},
   "outputs": [
    {
     "name": "stdout",
     "output_type": "stream",
     "text": [
      "Collecting google-generativeai\n",
      "  Downloading google_generativeai-0.5.4-py3-none-any.whl (150 kB)\n",
      "     ------------------------------------ 150.7/150.7 kB 600.3 kB/s eta 0:00:00\n",
      "Collecting google-ai-generativelanguage==0.6.4\n",
      "  Downloading google_ai_generativelanguage-0.6.4-py3-none-any.whl (679 kB)\n",
      "     -------------------------------------- 679.1/679.1 kB 1.0 MB/s eta 0:00:00\n",
      "Requirement already satisfied: protobuf in c:\\users\\hp\\anaconda3\\lib\\site-packages (from google-generativeai) (4.25.3)\n",
      "Collecting google-api-core\n",
      "  Downloading google_api_core-2.19.0-py3-none-any.whl (139 kB)\n",
      "     ------------------------------------ 139.0/139.0 kB 748.8 kB/s eta 0:00:00\n",
      "Requirement already satisfied: pydantic in c:\\users\\hp\\anaconda3\\lib\\site-packages (from google-generativeai) (1.10.14)\n",
      "Requirement already satisfied: tqdm in c:\\users\\hp\\anaconda3\\lib\\site-packages (from google-generativeai) (4.64.1)\n",
      "Requirement already satisfied: google-auth>=2.15.0 in c:\\users\\hp\\anaconda3\\lib\\site-packages (from google-generativeai) (2.28.0)\n",
      "Collecting google-api-python-client\n",
      "  Downloading google_api_python_client-2.131.0-py2.py3-none-any.whl (11.7 MB)\n",
      "     ---------------------------------------- 11.7/11.7 MB 2.2 MB/s eta 0:00:00\n",
      "Requirement already satisfied: typing-extensions in c:\\users\\hp\\anaconda3\\lib\\site-packages (from google-generativeai) (4.8.0)\n",
      "Collecting proto-plus<2.0.0dev,>=1.22.3\n",
      "  Downloading proto_plus-1.23.0-py3-none-any.whl (48 kB)\n",
      "     ---------------------------------------- 48.8/48.8 kB 2.6 MB/s eta 0:00:00\n",
      "Requirement already satisfied: cachetools<6.0,>=2.0.0 in c:\\users\\hp\\anaconda3\\lib\\site-packages (from google-auth>=2.15.0->google-generativeai) (5.3.2)\n",
      "Requirement already satisfied: pyasn1-modules>=0.2.1 in c:\\users\\hp\\anaconda3\\lib\\site-packages (from google-auth>=2.15.0->google-generativeai) (0.2.8)\n",
      "Requirement already satisfied: rsa<5,>=3.1.4 in c:\\users\\hp\\anaconda3\\lib\\site-packages (from google-auth>=2.15.0->google-generativeai) (4.9)\n",
      "Requirement already satisfied: requests<3.0.0.dev0,>=2.18.0 in c:\\users\\hp\\anaconda3\\lib\\site-packages (from google-api-core->google-generativeai) (2.28.1)\n",
      "Collecting googleapis-common-protos<2.0.dev0,>=1.56.2\n",
      "  Downloading googleapis_common_protos-1.63.0-py2.py3-none-any.whl (229 kB)\n",
      "     -------------------------------------- 229.1/229.1 kB 2.3 MB/s eta 0:00:00\n",
      "Collecting httplib2<1.dev0,>=0.19.0\n",
      "  Downloading httplib2-0.22.0-py3-none-any.whl (96 kB)\n",
      "     ---------------------------------------- 96.9/96.9 kB 2.8 MB/s eta 0:00:00\n",
      "Collecting google-auth-httplib2<1.0.0,>=0.2.0\n",
      "  Downloading google_auth_httplib2-0.2.0-py2.py3-none-any.whl (9.3 kB)\n",
      "Collecting uritemplate<5,>=3.0.1\n",
      "  Downloading uritemplate-4.1.1-py2.py3-none-any.whl (10 kB)\n",
      "Requirement already satisfied: colorama in c:\\users\\hp\\anaconda3\\lib\\site-packages (from tqdm->google-generativeai) (0.4.6)\n",
      "Requirement already satisfied: grpcio<2.0dev,>=1.33.2 in c:\\users\\hp\\anaconda3\\lib\\site-packages (from google-api-core->google-generativeai) (1.60.1)\n",
      "Collecting grpcio-status<2.0.dev0,>=1.33.2\n",
      "  Downloading grpcio_status-1.64.0-py3-none-any.whl (14 kB)\n",
      "Requirement already satisfied: pyparsing!=3.0.0,!=3.0.1,!=3.0.2,!=3.0.3,<4,>=2.4.2 in c:\\users\\hp\\anaconda3\\lib\\site-packages (from httplib2<1.dev0,>=0.19.0->google-api-python-client->google-generativeai) (3.0.9)\n",
      "Requirement already satisfied: pyasn1<0.5.0,>=0.4.6 in c:\\users\\hp\\anaconda3\\lib\\site-packages (from pyasn1-modules>=0.2.1->google-auth>=2.15.0->google-generativeai) (0.4.8)\n",
      "Requirement already satisfied: charset-normalizer<3,>=2 in c:\\users\\hp\\anaconda3\\lib\\site-packages (from requests<3.0.0.dev0,>=2.18.0->google-api-core->google-generativeai) (2.0.4)\n",
      "Requirement already satisfied: idna<4,>=2.5 in c:\\users\\hp\\anaconda3\\lib\\site-packages (from requests<3.0.0.dev0,>=2.18.0->google-api-core->google-generativeai) (3.3)\n",
      "Requirement already satisfied: urllib3<1.27,>=1.21.1 in c:\\users\\hp\\anaconda3\\lib\\site-packages (from requests<3.0.0.dev0,>=2.18.0->google-api-core->google-generativeai) (1.26.11)\n",
      "Requirement already satisfied: certifi>=2017.4.17 in c:\\users\\hp\\anaconda3\\lib\\site-packages (from requests<3.0.0.dev0,>=2.18.0->google-api-core->google-generativeai) (2022.9.14)\n",
      "  Downloading grpcio_status-1.63.0-py3-none-any.whl (14 kB)\n",
      "Collecting grpcio<2.0dev,>=1.33.2\n",
      "  Downloading grpcio-1.64.0-cp39-cp39-win_amd64.whl (4.1 MB)\n",
      "     ---------------------------------------- 4.1/4.1 MB 2.3 MB/s eta 0:00:00\n",
      "Collecting grpcio-status<2.0.dev0,>=1.33.2\n",
      "  Downloading grpcio_status-1.62.2-py3-none-any.whl (14 kB)\n",
      "Installing collected packages: uritemplate, proto-plus, httplib2, grpcio, googleapis-common-protos, grpcio-status, google-auth-httplib2, google-api-core, google-api-python-client, google-ai-generativelanguage, google-generativeai\n",
      "  Attempting uninstall: grpcio\n",
      "    Found existing installation: grpcio 1.60.1\n",
      "    Uninstalling grpcio-1.60.1:\n",
      "      Successfully uninstalled grpcio-1.60.1\n",
      "Successfully installed google-ai-generativelanguage-0.6.4 google-api-core-2.19.0 google-api-python-client-2.131.0 google-auth-httplib2-0.2.0 google-generativeai-0.5.4 googleapis-common-protos-1.63.0 grpcio-1.64.0 grpcio-status-1.62.2 httplib2-0.22.0 proto-plus-1.23.0 uritemplate-4.1.1\n"
     ]
    }
   ],
   "source": [
    "!pip install google-generativeai"
   ]
  },
  {
   "cell_type": "code",
   "execution_count": 5,
   "id": "29bbf9f5",
   "metadata": {},
   "outputs": [],
   "source": [
    "import google.generativeai as genai\n",
    "import os\n",
    "import tkinter as tk\n",
    "from tkinter import filedialog\n",
    "import string"
   ]
  },
  {
   "cell_type": "code",
   "execution_count": 2,
   "id": "5ace6821",
   "metadata": {},
   "outputs": [],
   "source": [
    "API = \"YOUR_API_KEY\"\n",
    "genai.configure(api_key = os.environ.get(\"GOOGLE_API_KEY\",API))\n",
    "generation_config = {'temperature':0.9,'top_p':1,'top_k':1,'max_output_tokens':2048}"
   ]
  },
  {
   "cell_type": "code",
   "execution_count": 3,
   "id": "29cf2142",
   "metadata": {},
   "outputs": [],
   "source": [
    "model = genai.GenerativeModel(\"gemini-pro\", generation_config = generation_config)"
   ]
  },
  {
   "cell_type": "code",
   "execution_count": 10,
   "id": "ed14d599",
   "metadata": {},
   "outputs": [
    {
     "name": "stdout",
     "output_type": "stream",
     "text": [
      "**Job Title**\n",
      "\n",
      "* What attracted you to apply for the Data Analyst position at our company?\n",
      "* How does your understanding of the data analyst role align with the responsibilities outlined in our job description?\n",
      "\n",
      "**Job Skills**\n",
      "\n",
      "**Data Analysis**\n",
      "* Describe your approach to cleaning, processing, and analyzing large datasets.\n",
      "* Discuss the statistical techniques and machine learning algorithms you are proficient in.\n",
      "* Provide examples of how you have used data analysis to solve business problems.\n",
      "\n",
      "**Machine Learning and Artificial Intelligence**\n",
      "* How do you apply machine learning algorithms to solve real-world problems?\n",
      "* Discuss your experience with supervised and unsupervised machine learning.\n",
      "* Explain the principles behind neural networks and deep learning.\n",
      "\n",
      "**Programming and Tools**\n",
      "* What is your level of proficiency in Python and R?\n",
      "* Describe your experience using SQL databases, such as MySQL and PostgreSQL.\n",
      "* How do you use data visualization tools like Tableau to present data insights?\n",
      "\n",
      "**Experience**\n",
      "\n",
      "**Data Scientist Intern at KELTRON KNOWLEDGE CENTRE**\n",
      "* Describe your role and responsibilities as a data scientist intern.\n",
      "* Discuss any projects you worked on and the specific techniques and tools you used.\n",
      "* How did your experience at KELTRON KNOWLEDGE CENTRE prepare you for this role?\n",
      "\n",
      "**Machine Learning Intern at CODSOFT**\n",
      "* What was the scope of your internship at CODSOFT?\n",
      "* Explain your contributions to the organization and the impact of your work.\n",
      "* How did your experience as a machine learning intern develop your skills and knowledge?\n",
      "\n",
      "**Education**\n",
      "\n",
      "**Bachelor of Computer Application from MES T.O ABDULLA MEMORIAL COLLEGE**\n",
      "* Why did you pursue a Bachelor of Computer Application?\n",
      "* How has your academic background equipped you with the skills necessary for this role?\n",
      "* Discuss any extracurricular activities or projects that you were involved in during your time as an undergraduate.\n",
      "\n",
      "**Ongoing Courses**\n",
      "\n",
      "**Microsoft Power BI Course**\n",
      "* Why are you interested in learning Power BI?\n",
      "* How do you plan to incorporate Power BI into your data analysis work?\n",
      "* What are your expectations for this ongoing course?\n"
     ]
    }
   ],
   "source": [
    "import PyPDF2\n",
    "def extract_text_from_pdf(pdf_file):\n",
    "    text = \"\"\n",
    "    with open(pdf_file, 'rb') as file:\n",
    "        reader = PyPDF2.PdfReader(file)\n",
    "        num_pages = len(reader.pages)\n",
    "        for page_num in range(num_pages):\n",
    "            text += reader.pages[page_num].extract_text()\n",
    "             \n",
    "    return text\n",
    "\n",
    "\n",
    "def select_resume():\n",
    "    root = tk.Tk()\n",
    "    root.withdraw()\n",
    "    file_path = filedialog.askopenfilename(title=\"Select Resume\", filetypes=((\"PDF files\", \"*.pdf\"), (\"All files\", \"*.*\")))\n",
    "    if file_path:\n",
    "        resume_text = extract_text_from_pdf(file_path)\n",
    "        response = model.generate_content(f\"provide interview questions based on Job Title, Job Skills and Experience from {resume_text}\")\n",
    "        interview_questions = response.candidates[0].content.parts[0].text\n",
    "        print(interview_questions)\n",
    "\n",
    "select_resume()"
   ]
  },
  {
   "cell_type": "code",
   "execution_count": null,
   "id": "1aa65651",
   "metadata": {},
   "outputs": [],
   "source": []
  }
 ],
 "metadata": {
  "kernelspec": {
   "display_name": "Python 3 (ipykernel)",
   "language": "python",
   "name": "python3"
  },
  "language_info": {
   "codemirror_mode": {
    "name": "ipython",
    "version": 3
   },
   "file_extension": ".py",
   "mimetype": "text/x-python",
   "name": "python",
   "nbconvert_exporter": "python",
   "pygments_lexer": "ipython3",
   "version": "3.9.13"
  }
 },
 "nbformat": 4,
 "nbformat_minor": 5
}
